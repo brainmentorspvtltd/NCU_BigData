{
 "cells": [
  {
   "cell_type": "code",
   "execution_count": 1,
   "id": "0ee13ad8",
   "metadata": {},
   "outputs": [],
   "source": [
    "import os, sys\n",
    "from pyspark.sql import SparkSession"
   ]
  },
  {
   "cell_type": "code",
   "execution_count": 2,
   "id": "27de0f73",
   "metadata": {},
   "outputs": [],
   "source": [
    "os.environ['PYSPARK_PYTHON'] = sys.executable\n",
    "os.environ['PYSPARK_DRIVER_PYTHON'] = sys.executable"
   ]
  },
  {
   "cell_type": "code",
   "execution_count": 3,
   "id": "b811c722",
   "metadata": {},
   "outputs": [],
   "source": [
    "data = [\"Hey\",\"Hello\",\"Bye\",\"If\",\"But\",\"Hi\",\"Hey\",\"Hello\",\"but\"]\n",
    "\n",
    "spark = SparkSession.builder.master('local[*]').appName('app_2').getOrCreate()\n",
    "rdd = spark.sparkContext.parallelize(data)"
   ]
  },
  {
   "cell_type": "code",
   "execution_count": 4,
   "id": "b5b393f7",
   "metadata": {},
   "outputs": [
    {
     "data": {
      "text/plain": [
       "ParallelCollectionRDD[0] at readRDDFromFile at PythonRDD.scala:274"
      ]
     },
     "execution_count": 4,
     "metadata": {},
     "output_type": "execute_result"
    }
   ],
   "source": [
    "rdd"
   ]
  },
  {
   "cell_type": "code",
   "execution_count": 5,
   "id": "556dcf77",
   "metadata": {},
   "outputs": [
    {
     "data": {
      "text/plain": [
       "['Hey', 'Hello', 'Bye', 'If', 'But', 'Hi', 'Hey', 'Hello', 'but']"
      ]
     },
     "execution_count": 5,
     "metadata": {},
     "output_type": "execute_result"
    }
   ],
   "source": [
    "rdd.collect()"
   ]
  },
  {
   "cell_type": "code",
   "execution_count": 8,
   "id": "87df9e8c",
   "metadata": {},
   "outputs": [],
   "source": [
    "def showWord(x):\n",
    "    print(x)"
   ]
  },
  {
   "cell_type": "code",
   "execution_count": 9,
   "id": "1c7c0b81",
   "metadata": {},
   "outputs": [],
   "source": [
    "rdd.foreach(showWord)"
   ]
  },
  {
   "cell_type": "code",
   "execution_count": 11,
   "id": "95976f39",
   "metadata": {},
   "outputs": [],
   "source": [
    "def showWord(x):\n",
    "    print(x.startswith('H'))"
   ]
  },
  {
   "cell_type": "code",
   "execution_count": 14,
   "id": "d4e47de7",
   "metadata": {},
   "outputs": [],
   "source": [
    "rdd.foreach(showWord)"
   ]
  },
  {
   "cell_type": "code",
   "execution_count": 15,
   "id": "34386d3f",
   "metadata": {},
   "outputs": [
    {
     "data": {
      "text/plain": [
       "PythonRDD[6] at RDD at PythonRDD.scala:53"
      ]
     },
     "execution_count": 15,
     "metadata": {},
     "output_type": "execute_result"
    }
   ],
   "source": [
    "rdd.filter(lambda x : x.startswith('H'))"
   ]
  },
  {
   "cell_type": "code",
   "execution_count": null,
   "id": "30720b1e",
   "metadata": {},
   "outputs": [],
   "source": []
  }
 ],
 "metadata": {
  "kernelspec": {
   "display_name": "Python 3 (ipykernel)",
   "language": "python",
   "name": "python3"
  },
  "language_info": {
   "codemirror_mode": {
    "name": "ipython",
    "version": 3
   },
   "file_extension": ".py",
   "mimetype": "text/x-python",
   "name": "python",
   "nbconvert_exporter": "python",
   "pygments_lexer": "ipython3",
   "version": "3.9.7"
  }
 },
 "nbformat": 4,
 "nbformat_minor": 5
}
