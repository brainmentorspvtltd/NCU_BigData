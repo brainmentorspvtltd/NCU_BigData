{
 "cells": [
  {
   "cell_type": "code",
   "execution_count": 1,
   "id": "fd10272c",
   "metadata": {},
   "outputs": [],
   "source": [
    "import os, sys\n",
    "from pyspark.sql import SparkSession"
   ]
  },
  {
   "cell_type": "code",
   "execution_count": 2,
   "id": "8a340f46",
   "metadata": {},
   "outputs": [],
   "source": [
    "os.environ['PYSPARK_PYTHON'] = sys.executable\n",
    "os.environ['PYSPARK_DRIVER_PYTHON'] = sys.executable"
   ]
  },
  {
   "cell_type": "code",
   "execution_count": 3,
   "id": "513c38d4",
   "metadata": {},
   "outputs": [],
   "source": [
    "spark = SparkSession.builder.master('local[*]').appName('app_1').getOrCreate()"
   ]
  },
  {
   "cell_type": "code",
   "execution_count": 8,
   "id": "8b361714",
   "metadata": {},
   "outputs": [],
   "source": [
    "my_df = spark.read.csv('headbrain.csv', header=True)"
   ]
  },
  {
   "cell_type": "code",
   "execution_count": 9,
   "id": "8c1c9cf6",
   "metadata": {},
   "outputs": [
    {
     "name": "stdout",
     "output_type": "stream",
     "text": [
      "root\n",
      " |-- Gender: string (nullable = true)\n",
      " |-- Age Range: string (nullable = true)\n",
      " |-- Head Size(cm^3): string (nullable = true)\n",
      " |-- Brain Weight(grams): string (nullable = true)\n",
      "\n"
     ]
    }
   ],
   "source": [
    "my_df.printSchema()"
   ]
  },
  {
   "cell_type": "code",
   "execution_count": 10,
   "id": "7f63e9f9",
   "metadata": {},
   "outputs": [
    {
     "name": "stdout",
     "output_type": "stream",
     "text": [
      "+------+---------+---------------+-------------------+\n",
      "|Gender|Age Range|Head Size(cm^3)|Brain Weight(grams)|\n",
      "+------+---------+---------------+-------------------+\n",
      "|     1|        1|           4512|               1530|\n",
      "|     1|        1|           3738|               1297|\n",
      "|     1|        1|           4261|               1335|\n",
      "|     1|        1|           3777|               1282|\n",
      "|     1|        1|           4177|               1590|\n",
      "+------+---------+---------------+-------------------+\n",
      "only showing top 5 rows\n",
      "\n"
     ]
    }
   ],
   "source": [
    "my_df.show(5)"
   ]
  },
  {
   "cell_type": "code",
   "execution_count": 13,
   "id": "fde72197",
   "metadata": {},
   "outputs": [
    {
     "name": "stdout",
     "output_type": "stream",
     "text": [
      "+------+\n",
      "|Gender|\n",
      "+------+\n",
      "|     1|\n",
      "|     1|\n",
      "|     1|\n",
      "|     1|\n",
      "|     1|\n",
      "+------+\n",
      "only showing top 5 rows\n",
      "\n"
     ]
    }
   ],
   "source": [
    "my_df.select('Gender').show(5)"
   ]
  },
  {
   "cell_type": "code",
   "execution_count": 14,
   "id": "5ec10b0e",
   "metadata": {},
   "outputs": [
    {
     "name": "stdout",
     "output_type": "stream",
     "text": [
      "+------+---------+\n",
      "|Gender|Age Range|\n",
      "+------+---------+\n",
      "|     1|        1|\n",
      "|     1|        1|\n",
      "|     1|        1|\n",
      "|     1|        1|\n",
      "|     1|        1|\n",
      "+------+---------+\n",
      "only showing top 5 rows\n",
      "\n"
     ]
    }
   ],
   "source": [
    "my_df.select(['Gender','Age Range']).show(5)"
   ]
  },
  {
   "cell_type": "code",
   "execution_count": 15,
   "id": "6a15477c",
   "metadata": {},
   "outputs": [],
   "source": [
    "new_df = my_df.drop(*['Gender' ,'Age Range'])"
   ]
  },
  {
   "cell_type": "code",
   "execution_count": 16,
   "id": "855332a8",
   "metadata": {},
   "outputs": [
    {
     "name": "stdout",
     "output_type": "stream",
     "text": [
      "+---------------+-------------------+\n",
      "|Head Size(cm^3)|Brain Weight(grams)|\n",
      "+---------------+-------------------+\n",
      "|           4512|               1530|\n",
      "|           3738|               1297|\n",
      "|           4261|               1335|\n",
      "|           3777|               1282|\n",
      "|           4177|               1590|\n",
      "+---------------+-------------------+\n",
      "only showing top 5 rows\n",
      "\n"
     ]
    }
   ],
   "source": [
    "new_df.show(5)"
   ]
  },
  {
   "cell_type": "code",
   "execution_count": 17,
   "id": "be05a816",
   "metadata": {},
   "outputs": [
    {
     "data": {
      "text/plain": [
       "237"
      ]
     },
     "execution_count": 17,
     "metadata": {},
     "output_type": "execute_result"
    }
   ],
   "source": [
    "new_df.count()  # return number of rows"
   ]
  },
  {
   "cell_type": "code",
   "execution_count": 18,
   "id": "bc830598",
   "metadata": {},
   "outputs": [
    {
     "data": {
      "text/plain": [
       "2"
      ]
     },
     "execution_count": 18,
     "metadata": {},
     "output_type": "execute_result"
    }
   ],
   "source": [
    "len(new_df.columns)  # return number of cols"
   ]
  },
  {
   "cell_type": "code",
   "execution_count": 19,
   "id": "1bd94fbf",
   "metadata": {},
   "outputs": [
    {
     "data": {
      "text/plain": [
       "DataFrame[summary: string, Head Size(cm^3): string, Brain Weight(grams): string]"
      ]
     },
     "execution_count": 19,
     "metadata": {},
     "output_type": "execute_result"
    }
   ],
   "source": [
    "new_df.select('Head Size(cm^3)', 'Brain Weight(grams)').describe()"
   ]
  },
  {
   "cell_type": "code",
   "execution_count": 20,
   "id": "5125ab8e",
   "metadata": {},
   "outputs": [
    {
     "name": "stdout",
     "output_type": "stream",
     "text": [
      "+-------+------------------+-------------------+\n",
      "|summary|   Head Size(cm^3)|Brain Weight(grams)|\n",
      "+-------+------------------+-------------------+\n",
      "|  count|               237|                237|\n",
      "|   mean|3633.9915611814345|  1282.873417721519|\n",
      "| stddev| 365.2614224198132| 120.34044578645734|\n",
      "|    min|              2720|               1012|\n",
      "|    max|              4747|                955|\n",
      "+-------+------------------+-------------------+\n",
      "\n"
     ]
    }
   ],
   "source": [
    "new_df.select('Head Size(cm^3)', 'Brain Weight(grams)').describe().show()"
   ]
  },
  {
   "cell_type": "markdown",
   "id": "9c100d26",
   "metadata": {},
   "source": [
    "## Get count of missing values"
   ]
  },
  {
   "cell_type": "code",
   "execution_count": 21,
   "id": "45927ab6",
   "metadata": {},
   "outputs": [],
   "source": [
    "import pyspark.sql.functions as fun"
   ]
  },
  {
   "cell_type": "code",
   "execution_count": 22,
   "id": "9ce6ea18",
   "metadata": {},
   "outputs": [
    {
     "data": {
      "text/plain": [
       "DataFrame[Gender: bigint, Age Range: bigint, Head Size(cm^3): bigint, Brain Weight(grams): bigint]"
      ]
     },
     "execution_count": 22,
     "metadata": {},
     "output_type": "execute_result"
    }
   ],
   "source": [
    "# Aggregate Functions : count, avg, sum, min, max\n",
    "my_df.agg(*[fun.count(fun.when(fun.isnull(col), col)).alias(col) for col in my_df.columns])"
   ]
  },
  {
   "cell_type": "code",
   "execution_count": 23,
   "id": "b1f1ea49",
   "metadata": {},
   "outputs": [
    {
     "name": "stdout",
     "output_type": "stream",
     "text": [
      "+------+---------+---------------+-------------------+\n",
      "|Gender|Age Range|Head Size(cm^3)|Brain Weight(grams)|\n",
      "+------+---------+---------------+-------------------+\n",
      "|     0|        0|              0|                  0|\n",
      "+------+---------+---------------+-------------------+\n",
      "\n"
     ]
    }
   ],
   "source": [
    "my_df.agg(*[fun.count(fun.when(fun.isnull(col), col)).alias(col) for col in my_df.columns]).show()"
   ]
  },
  {
   "cell_type": "code",
   "execution_count": 24,
   "id": "f8341203",
   "metadata": {},
   "outputs": [
    {
     "data": {
      "text/plain": [
       "<pyspark.sql.group.GroupedData at 0x269e14ae520>"
      ]
     },
     "execution_count": 24,
     "metadata": {},
     "output_type": "execute_result"
    }
   ],
   "source": [
    "my_df.groupBy('Gender')"
   ]
  },
  {
   "cell_type": "code",
   "execution_count": 25,
   "id": "e36d34c4",
   "metadata": {},
   "outputs": [
    {
     "name": "stdout",
     "output_type": "stream",
     "text": [
      "+------+-----+\n",
      "|Gender|count|\n",
      "+------+-----+\n",
      "|     1|  134|\n",
      "|     2|  103|\n",
      "+------+-----+\n",
      "\n"
     ]
    }
   ],
   "source": [
    "my_df.groupBy('Gender').count().show()"
   ]
  },
  {
   "cell_type": "code",
   "execution_count": 26,
   "id": "6b41caa5",
   "metadata": {},
   "outputs": [],
   "source": [
    "from pyspark.ml.feature import StringIndexer, OneHotEncoder"
   ]
  },
  {
   "cell_type": "code",
   "execution_count": 28,
   "id": "b9c1790f",
   "metadata": {},
   "outputs": [],
   "source": [
    "genderLabel = StringIndexer(inputCol='Gender', outputCol='GenderLabelEncode')"
   ]
  },
  {
   "cell_type": "code",
   "execution_count": 29,
   "id": "c5bbeb36",
   "metadata": {},
   "outputs": [
    {
     "data": {
      "text/plain": [
       "StringIndexer_8d08e4c41322"
      ]
     },
     "execution_count": 29,
     "metadata": {},
     "output_type": "execute_result"
    }
   ],
   "source": [
    "genderLabel"
   ]
  },
  {
   "cell_type": "code",
   "execution_count": 30,
   "id": "c802e7e1",
   "metadata": {},
   "outputs": [],
   "source": [
    "my_df = genderLabel.fit(my_df).transform(my_df)"
   ]
  },
  {
   "cell_type": "code",
   "execution_count": 31,
   "id": "cc000b37",
   "metadata": {},
   "outputs": [
    {
     "name": "stdout",
     "output_type": "stream",
     "text": [
      "+------+---------+---------------+-------------------+-----------------+\n",
      "|Gender|Age Range|Head Size(cm^3)|Brain Weight(grams)|GenderLabelEncode|\n",
      "+------+---------+---------------+-------------------+-----------------+\n",
      "|     1|        1|           4512|               1530|              0.0|\n",
      "|     1|        1|           3738|               1297|              0.0|\n",
      "|     1|        1|           4261|               1335|              0.0|\n",
      "|     1|        1|           3777|               1282|              0.0|\n",
      "|     1|        1|           4177|               1590|              0.0|\n",
      "+------+---------+---------------+-------------------+-----------------+\n",
      "only showing top 5 rows\n",
      "\n"
     ]
    }
   ],
   "source": [
    "my_df.show(5)"
   ]
  },
  {
   "cell_type": "code",
   "execution_count": 32,
   "id": "041ff3b3",
   "metadata": {},
   "outputs": [
    {
     "name": "stdout",
     "output_type": "stream",
     "text": [
      "+-----------------+-----+\n",
      "|GenderLabelEncode|count|\n",
      "+-----------------+-----+\n",
      "|              0.0|  134|\n",
      "|              1.0|  103|\n",
      "+-----------------+-----+\n",
      "\n"
     ]
    }
   ],
   "source": [
    "my_df.groupBy('GenderLabelEncode').count().show()"
   ]
  },
  {
   "cell_type": "code",
   "execution_count": 33,
   "id": "bae911eb",
   "metadata": {},
   "outputs": [],
   "source": [
    "genderOneHot = OneHotEncoder(inputCol='GenderLabelEncode', outputCol='GenderOneHot')"
   ]
  },
  {
   "cell_type": "code",
   "execution_count": 34,
   "id": "069c569f",
   "metadata": {},
   "outputs": [],
   "source": [
    "my_df = genderOneHot.fit(my_df).transform(my_df)"
   ]
  },
  {
   "cell_type": "code",
   "execution_count": 37,
   "id": "4518a7e0",
   "metadata": {},
   "outputs": [
    {
     "name": "stdout",
     "output_type": "stream",
     "text": [
      "+------+---------+---------------+-------------------+-----------------+-------------+\n",
      "|Gender|Age Range|Head Size(cm^3)|Brain Weight(grams)|GenderLabelEncode| GenderOneHot|\n",
      "+------+---------+---------------+-------------------+-----------------+-------------+\n",
      "|     1|        1|           4512|               1530|              0.0|(1,[0],[1.0])|\n",
      "|     1|        1|           3738|               1297|              0.0|(1,[0],[1.0])|\n",
      "|     1|        1|           4261|               1335|              0.0|(1,[0],[1.0])|\n",
      "|     1|        1|           3777|               1282|              0.0|(1,[0],[1.0])|\n",
      "|     1|        1|           4177|               1590|              0.0|(1,[0],[1.0])|\n",
      "+------+---------+---------------+-------------------+-----------------+-------------+\n",
      "only showing top 5 rows\n",
      "\n"
     ]
    }
   ],
   "source": [
    "my_df.show(5)"
   ]
  },
  {
   "cell_type": "code",
   "execution_count": 41,
   "id": "0df8ec80",
   "metadata": {},
   "outputs": [
    {
     "name": "stdout",
     "output_type": "stream",
     "text": [
      "+------+---------+---------------+-------------------+-----------------+-------------+\n",
      "|Gender|Age Range|Head Size(cm^3)|Brain Weight(grams)|GenderLabelEncode| GenderOneHot|\n",
      "+------+---------+---------------+-------------------+-----------------+-------------+\n",
      "|     1|        1|           4512|               1530|              0.0|(1,[0],[1.0])|\n",
      "|     1|        1|           3738|               1297|              0.0|(1,[0],[1.0])|\n",
      "+------+---------+---------------+-------------------+-----------------+-------------+\n",
      "only showing top 2 rows\n",
      "\n"
     ]
    }
   ],
   "source": [
    "my_df.show(2)"
   ]
  },
  {
   "cell_type": "code",
   "execution_count": 47,
   "id": "212704aa",
   "metadata": {},
   "outputs": [],
   "source": [
    "import pyspark.sql.types as tp"
   ]
  },
  {
   "cell_type": "code",
   "execution_count": 48,
   "id": "98ca3a54",
   "metadata": {},
   "outputs": [],
   "source": [
    "schema = tp.StructType([\n",
    "    tp.StructField(name='Gender', dataType=tp.IntegerType()),\n",
    "    tp.StructField(name='Age Range', dataType=tp.IntegerType()),\n",
    "    tp.StructField(name='Head Size(cm^3)', dataType=tp.IntegerType()),\n",
    "    tp.StructField(name='Brain Weight(grams)', dataType=tp.IntegerType())\n",
    "])"
   ]
  },
  {
   "cell_type": "code",
   "execution_count": 49,
   "id": "37da3c66",
   "metadata": {},
   "outputs": [],
   "source": [
    "my_df = spark.read.csv('headbrain.csv', schema=schema, header=True)"
   ]
  },
  {
   "cell_type": "code",
   "execution_count": 50,
   "id": "e7bff0e4",
   "metadata": {},
   "outputs": [
    {
     "name": "stdout",
     "output_type": "stream",
     "text": [
      "root\n",
      " |-- Gender: integer (nullable = true)\n",
      " |-- Age Range: integer (nullable = true)\n",
      " |-- Head Size(cm^3): integer (nullable = true)\n",
      " |-- Brain Weight(grams): integer (nullable = true)\n",
      "\n"
     ]
    }
   ],
   "source": [
    "my_df.printSchema()"
   ]
  },
  {
   "cell_type": "code",
   "execution_count": 42,
   "id": "95ec3d18",
   "metadata": {},
   "outputs": [],
   "source": [
    "# Vector Assembler"
   ]
  },
  {
   "cell_type": "code",
   "execution_count": 43,
   "id": "51891e67",
   "metadata": {},
   "outputs": [],
   "source": [
    "from pyspark.ml.feature import VectorAssembler"
   ]
  },
  {
   "cell_type": "code",
   "execution_count": 51,
   "id": "8b37b256",
   "metadata": {},
   "outputs": [],
   "source": [
    "assemble = VectorAssembler(inputCols=['Head Size(cm^3)', \n",
    "                                      'Brain Weight(grams)'],\n",
    "                           outputCol='vector')"
   ]
  },
  {
   "cell_type": "code",
   "execution_count": 52,
   "id": "d83b0e6c",
   "metadata": {},
   "outputs": [],
   "source": [
    "new_df_vec = assemble.transform(my_df)"
   ]
  },
  {
   "cell_type": "code",
   "execution_count": 53,
   "id": "c2828e74",
   "metadata": {},
   "outputs": [
    {
     "data": {
      "text/plain": [
       "DataFrame[Gender: int, Age Range: int, Head Size(cm^3): int, Brain Weight(grams): int, vector: vector]"
      ]
     },
     "execution_count": 53,
     "metadata": {},
     "output_type": "execute_result"
    }
   ],
   "source": [
    "new_df_vec"
   ]
  },
  {
   "cell_type": "code",
   "execution_count": 55,
   "id": "476f5fea",
   "metadata": {},
   "outputs": [
    {
     "name": "stdout",
     "output_type": "stream",
     "text": [
      "+------+---------+---------------+-------------------+---------------+\n",
      "|Gender|Age Range|Head Size(cm^3)|Brain Weight(grams)|         vector|\n",
      "+------+---------+---------------+-------------------+---------------+\n",
      "|     1|        1|           4512|               1530|[4512.0,1530.0]|\n",
      "|     1|        1|           3738|               1297|[3738.0,1297.0]|\n",
      "|     1|        1|           4261|               1335|[4261.0,1335.0]|\n",
      "|     1|        1|           3777|               1282|[3777.0,1282.0]|\n",
      "|     1|        1|           4177|               1590|[4177.0,1590.0]|\n",
      "+------+---------+---------------+-------------------+---------------+\n",
      "only showing top 5 rows\n",
      "\n"
     ]
    }
   ],
   "source": [
    "new_df_vec.show(5)"
   ]
  },
  {
   "cell_type": "code",
   "execution_count": 59,
   "id": "41f9a7b8",
   "metadata": {
    "scrolled": true
   },
   "outputs": [
    {
     "name": "stdout",
     "output_type": "stream",
     "text": [
      "+---------------+\n",
      "|         vector|\n",
      "+---------------+\n",
      "|[4512.0,1530.0]|\n",
      "|[3738.0,1297.0]|\n",
      "|[4261.0,1335.0]|\n",
      "|[3777.0,1282.0]|\n",
      "|[4177.0,1590.0]|\n",
      "+---------------+\n",
      "only showing top 5 rows\n",
      "\n"
     ]
    }
   ],
   "source": [
    "new_df_vec.select('vector').show(5)"
   ]
  },
  {
   "cell_type": "code",
   "execution_count": 60,
   "id": "a4354e41",
   "metadata": {},
   "outputs": [],
   "source": [
    "sample_df = spark.createDataFrame([\n",
    "    (101, 'John', 'Male'),\n",
    "    (102, 'Mac', 'Male'),\n",
    "    (103, 'Sam', 'Male'),\n",
    "    (104, 'Nick', 'Male'),\n",
    "    (105, 'Tom', 'Male'),\n",
    "    (106, 'Jenny', 'Female'),\n",
    "    (107, 'Julie', 'Female'),\n",
    "    (108, 'Linda', 'Female'),\n",
    "],['id', 'name', 'gender'])"
   ]
  },
  {
   "cell_type": "code",
   "execution_count": 61,
   "id": "224e6093",
   "metadata": {},
   "outputs": [
    {
     "name": "stdout",
     "output_type": "stream",
     "text": [
      "+---+-----+------+\n",
      "| id| name|gender|\n",
      "+---+-----+------+\n",
      "|101| John|  Male|\n",
      "|102|  Mac|  Male|\n",
      "|103|  Sam|  Male|\n",
      "|104| Nick|  Male|\n",
      "|105|  Tom|  Male|\n",
      "|106|Jenny|Female|\n",
      "|107|Julie|Female|\n",
      "|108|Linda|Female|\n",
      "+---+-----+------+\n",
      "\n"
     ]
    }
   ],
   "source": [
    "sample_df.show()"
   ]
  },
  {
   "cell_type": "code",
   "execution_count": 62,
   "id": "2c1d5b4c",
   "metadata": {},
   "outputs": [],
   "source": [
    "from pyspark.ml import Pipeline"
   ]
  },
  {
   "cell_type": "code",
   "execution_count": 64,
   "id": "32907cc2",
   "metadata": {},
   "outputs": [],
   "source": [
    "stage_1 = StringIndexer(inputCol='gender', outputCol='gender_label')\n",
    "stage_2 = OneHotEncoder(inputCol='gender_label', outputCol='gender_onehot')\n",
    "\n",
    "pipeline = Pipeline(stages=[stage_1, stage_2])\n",
    "pipelineModel = pipeline.fit(sample_df)\n",
    "new_sample_df = pipelineModel.transform(sample_df)"
   ]
  },
  {
   "cell_type": "code",
   "execution_count": 65,
   "id": "99b78c7c",
   "metadata": {},
   "outputs": [
    {
     "name": "stdout",
     "output_type": "stream",
     "text": [
      "+---+-----+------+------------+-------------+\n",
      "| id| name|gender|gender_label|gender_onehot|\n",
      "+---+-----+------+------------+-------------+\n",
      "|101| John|  Male|         0.0|(1,[0],[1.0])|\n",
      "|102|  Mac|  Male|         0.0|(1,[0],[1.0])|\n",
      "|103|  Sam|  Male|         0.0|(1,[0],[1.0])|\n",
      "|104| Nick|  Male|         0.0|(1,[0],[1.0])|\n",
      "|105|  Tom|  Male|         0.0|(1,[0],[1.0])|\n",
      "|106|Jenny|Female|         1.0|    (1,[],[])|\n",
      "|107|Julie|Female|         1.0|    (1,[],[])|\n",
      "|108|Linda|Female|         1.0|    (1,[],[])|\n",
      "+---+-----+------+------------+-------------+\n",
      "\n"
     ]
    }
   ],
   "source": [
    "new_sample_df.show()"
   ]
  },
  {
   "cell_type": "code",
   "execution_count": 66,
   "id": "f4edc98b",
   "metadata": {},
   "outputs": [],
   "source": [
    "from pyspark.ml.classification import LogisticRegression"
   ]
  },
  {
   "cell_type": "code",
   "execution_count": 67,
   "id": "16fc8d23",
   "metadata": {},
   "outputs": [],
   "source": [
    "df = spark.createDataFrame([\n",
    "    (5.0, 55, 'f'),\n",
    "    (5.8, 75, 'm'),\n",
    "    (4.9, 48, 'f'),\n",
    "    (5.9, 85, 'm'),\n",
    "    (6.0, 95, 'm'),\n",
    "    (5.5, 65, 'm'),\n",
    "    (5.2, 50, 'f'),\n",
    "    (5.3, 60, 'f'),\n",
    "    (5.2, 65, 'f'),\n",
    "    (5.7, 75, 'm'),\n",
    "], ['feature_1', 'feature_2', 'label'])"
   ]
  },
  {
   "cell_type": "code",
   "execution_count": 68,
   "id": "036783a6",
   "metadata": {},
   "outputs": [],
   "source": [
    "stage_1 = StringIndexer(inputCol='label', outputCol='gender_label')\n",
    "stage_2 = VectorAssembler(inputCols=['feature_1', 'feature_2'],\n",
    "                         outputCol='features')\n",
    "stage_3 = LogisticRegression(featuresCol='features', labelCol='gender_label')\n",
    "\n",
    "pipeline = Pipeline(stages=[stage_1, stage_2, stage_3])\n",
    "pipelineModel = pipeline.fit(df)\n",
    "new_sample_df = pipelineModel.transform(df)"
   ]
  },
  {
   "cell_type": "code",
   "execution_count": 69,
   "id": "3b345204",
   "metadata": {},
   "outputs": [
    {
     "name": "stdout",
     "output_type": "stream",
     "text": [
      "+---------+---------+-----+------------+----------+--------------------+--------------------+----------+\n",
      "|feature_1|feature_2|label|gender_label|  features|       rawPrediction|         probability|prediction|\n",
      "+---------+---------+-----+------------+----------+--------------------+--------------------+----------+\n",
      "|      5.0|       55|    f|         0.0|[5.0,55.0]|[60.5499013118219...|           [1.0,0.0]|       0.0|\n",
      "|      5.8|       75|    m|         1.0|[5.8,75.0]|[-65.043764146401...|[5.64744680681714...|       1.0|\n",
      "|      4.9|       48|    f|         0.0|[4.9,48.0]|[80.2533863258387...|           [1.0,0.0]|       0.0|\n",
      "|      5.9|       85|    m|         1.0|[5.9,85.0]|[-87.416767048244...|[1.08487685790069...|       1.0|\n",
      "|      6.0|       95|    m|         1.0|[6.0,95.0]|[-109.78976995008...|[2.08405291288070...|       1.0|\n",
      "|      5.5|       65|    m|         1.0|[5.5,65.0]|[-15.721541359713...|[1.48669292918052...|       1.0|\n",
      "|      5.2|       50|    f|         0.0|[5.2,50.0]|[38.0498779066855...|           [1.0,0.0]|       0.0|\n",
      "|      5.3|       60|    f|         0.0|[5.3,60.0]|[15.6768750048429...|[0.99999984453965...|       0.0|\n",
      "|      5.2|       65|    f|         0.0|[5.2,65.0]|[24.7022884675560...|[0.99999999998129...|       0.0|\n",
      "|      5.7|       75|    m|         1.0|[5.7,75.0]|[-51.569154203979...|[4.01606647536858...|       1.0|\n",
      "+---------+---------+-----+------------+----------+--------------------+--------------------+----------+\n",
      "\n"
     ]
    }
   ],
   "source": [
    "new_sample_df.show()"
   ]
  },
  {
   "cell_type": "code",
   "execution_count": null,
   "id": "77026bb3",
   "metadata": {},
   "outputs": [],
   "source": []
  }
 ],
 "metadata": {
  "kernelspec": {
   "display_name": "Python 3 (ipykernel)",
   "language": "python",
   "name": "python3"
  },
  "language_info": {
   "codemirror_mode": {
    "name": "ipython",
    "version": 3
   },
   "file_extension": ".py",
   "mimetype": "text/x-python",
   "name": "python",
   "nbconvert_exporter": "python",
   "pygments_lexer": "ipython3",
   "version": "3.9.7"
  }
 },
 "nbformat": 4,
 "nbformat_minor": 5
}
